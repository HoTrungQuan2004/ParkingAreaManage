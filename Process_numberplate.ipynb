{
  "nbformat": 4,
  "nbformat_minor": 0,
  "metadata": {
    "colab": {
      "provenance": [],
      "authorship_tag": "ABX9TyN9KSNjYtq1BxWqqBam6Xzd",
      "include_colab_link": true
    },
    "kernelspec": {
      "name": "python3",
      "display_name": "Python 3"
    },
    "language_info": {
      "name": "python"
    }
  },
  "cells": [
    {
      "cell_type": "markdown",
      "metadata": {
        "id": "view-in-github",
        "colab_type": "text"
      },
      "source": [
        "<a href=\"https://colab.research.google.com/github/HoTrungQuan2004/ParkingAreaManage/blob/main/Process_numberplate.ipynb\" target=\"_parent\"><img src=\"https://colab.research.google.com/assets/colab-badge.svg\" alt=\"Open In Colab\"/></a>"
      ]
    },
    {
      "cell_type": "code",
      "source": [
        "!pip install pyrebase4 --quiet"
      ],
      "metadata": {
        "id": "d3vBSoOVSGvq"
      },
      "execution_count": null,
      "outputs": []
    },
    {
      "cell_type": "code",
      "source": [
        "import pyrebase\n",
        "import time\n",
        "from datetime import datetime"
      ],
      "metadata": {
        "id": "mWikcJisSGIl"
      },
      "execution_count": null,
      "outputs": []
    },
    {
      "cell_type": "code",
      "execution_count": null,
      "metadata": {
        "id": "VbxqwyekSDkK"
      },
      "outputs": [],
      "source": [
        "# --- Cấu hình Firebase ---\n",
        "config = {\n",
        "    \"apiKey\": \"<YOUR_FIREBASE_API_KEY>\",\n",
        "    \"authDomain\": \"<YOUR_PROJECT_ID>.firebaseapp.com\",\n",
        "    \"databaseURL\": \"https://liencesplayeai-default-rtdb.firebaseio.com\",\n",
        "    \"storageBucket\": \"<YOUR_PROJECT_ID>.appspot.com\"\n",
        "}\n",
        "\n",
        "firebase = pyrebase.initialize_app(config)\n",
        "db = firebase.database()\n",
        "\n",
        "# --- Cấu hình số slot ---\n",
        "TOTAL_SLOTS = 100\n",
        "\n",
        "# --- Các node trên Firebase ---\n",
        "NUMBERPLATE_NODE = \"numberplate\"\n",
        "PARKING_NODE = \"vehicles\"          # Danh sách xe đang đỗ (biển số -> thời gian vào)\n",
        "STATS_NODE = \"parking_stats\"       # Thống kê slot\n",
        "DAILY_NODE = \"daily_counts\"\n",
        "MONTHLY_NODE = \"monthly_counts\"\n",
        "\n",
        "# --- Bộ nhớ tạm thời trên RAM ---\n",
        "current_vehicles = {}  # {biển_số: thời_gian_đỗ}\n",
        "\n",
        "def get_today():\n",
        "    return datetime.now().strftime(\"%Y-%m-%d\")\n",
        "\n",
        "def get_month():\n",
        "    return datetime.now().strftime(\"%Y-%m\")\n",
        "\n",
        "def update_stats():\n",
        "    \"\"\"Cập nhật số slot trống/đã dùng lên Firebase\"\"\"\n",
        "    occupied = len(current_vehicles)\n",
        "    stats = {\n",
        "        \"total_slots\": TOTAL_SLOTS,\n",
        "        \"occupied_slots\": occupied,\n",
        "        \"available_slots\": TOTAL_SLOTS - occupied,\n",
        "        \"last_updated\": datetime.now().strftime('%Y-%m-%d %H:%M:%S')\n",
        "    }\n",
        "    db.child(STATS_NODE).set(stats)\n",
        "\n",
        "def update_daily_count():\n",
        "    \"\"\"Tăng lượt xe hôm nay\"\"\"\n",
        "    today = get_today()\n",
        "    node = f\"{DAILY_NODE}/{today}\"\n",
        "    cur = db.child(node).get().val()\n",
        "    count = cur.get(\"count\", 0) + 1 if cur else 1\n",
        "    db.child(node).set({\"date\": today, \"count\": count})\n",
        "\n",
        "def update_monthly_count():\n",
        "    \"\"\"Tăng lượt xe tháng này\"\"\"\n",
        "    month = get_month()\n",
        "    node = f\"{MONTHLY_NODE}/{month}\"\n",
        "    cur = db.child(node).get().val()\n",
        "    count = cur.get(\"count\", 0) + 1 if cur else 1\n",
        "    db.child(node).set({\"month\": month, \"count\": count})\n",
        "\n",
        "def process_plate(plate, date_time, key):\n",
        "    plate = plate.strip().upper()\n",
        "    if not plate or len(plate) < 4:\n",
        "        print(f\"[WARN] Plate không hợp lệ: {plate}\")\n",
        "        return\n",
        "\n",
        "    # --- Xe ĐI RA (đã từng vào) ---\n",
        "    if plate in current_vehicles:\n",
        "        print(f\"[INFO] 🚗 Xe RA: {plate} ({current_vehicles[plate]}) -> {date_time}\")\n",
        "        # Xóa khỏi danh sách xe đang đỗ trên server\n",
        "        db.child(PARKING_NODE).child(plate).remove()\n",
        "        del current_vehicles[plate]\n",
        "        # Cập nhật slot\n",
        "        update_stats()\n",
        "        # Có thể log lịch sử ra vào ở đây nếu muốn\n",
        "    else:\n",
        "        # --- Xe ĐI VÀO ---\n",
        "        print(f\"[INFO] 🚗 Xe VÀO: {plate} @ {date_time}\")\n",
        "        current_vehicles[plate] = date_time\n",
        "        db.child(PARKING_NODE).child(plate).set({\"entry_time\": date_time})\n",
        "        update_stats()\n",
        "        update_daily_count()\n",
        "        update_monthly_count()\n",
        "\n",
        "    # Xóa entry đã xử lý khỏi queue\n",
        "    db.child(NUMBERPLATE_NODE).child(key).remove()\n",
        "\n",
        "def sync_current_vehicles():\n",
        "    \"\"\"Đồng bộ danh sách xe từ Firebase vào RAM khi bắt đầu chạy\"\"\"\n",
        "    global current_vehicles\n",
        "    data = db.child(PARKING_NODE).get().val()\n",
        "    if data:\n",
        "        current_vehicles = {k: v[\"entry_time\"] if isinstance(v, dict) and \"entry_time\" in v else \"\" for k, v in data.items()}\n",
        "    else:\n",
        "        current_vehicles = {}\n",
        "\n",
        "def main_loop(poll_interval=3):\n",
        "    print(\"---- Parking Manager Started ----\")\n",
        "    sync_current_vehicles()\n",
        "    update_stats()\n",
        "    while True:\n",
        "        # Đọc danh sách biển số mới gửi lên\n",
        "        plates = db.child(NUMBERPLATE_NODE).get().val()\n",
        "        if plates:\n",
        "            for key, value in plates.items():\n",
        "                plate = value.get(\"number_plate\", \"\").strip()\n",
        "                date_time = value.get(\"date_time\", \"\")\n",
        "                process_plate(plate, date_time, key)\n",
        "        else:\n",
        "            # print(\"No new plates.\")\n",
        "            pass\n",
        "        time.sleep(poll_interval)\n",
        "\n",
        "if __name__ == \"__main__\":\n",
        "    main_loop(poll_interval=3)  # Kiểm tra mỗi 3 giây, có thể tăng/giảm tùy nhu cầu"
      ]
    }
  ]
}